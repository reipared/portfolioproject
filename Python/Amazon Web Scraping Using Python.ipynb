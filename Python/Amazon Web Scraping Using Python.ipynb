{
 "cells": [
  {
   "cell_type": "code",
   "execution_count": 57,
   "metadata": {},
   "outputs": [],
   "source": [
    "# Import libraries\n",
    "\n",
    "from bs4 import BeautifulSoup\n",
    "import requests\n",
    "import time\n",
    "import datetime\n",
    "\n",
    "import smtplib\n"
   ]
  },
  {
   "cell_type": "code",
   "execution_count": null,
   "metadata": {},
   "outputs": [
    {
     "name": "stdout",
     "output_type": "stream",
     "text": [
      "\n",
      "                    Got Data Funny Business Data Analyst T-Shirt\n",
      "                   \n",
      "\n",
      "                             7\n",
      "                             \n",
      "                              .\n",
      "                             \n",
      "\n"
     ]
    }
   ],
   "source": [
    "# Connect to website\n",
    "\n",
    "URL = 'https://www.amazon.com/Funny-Data-Systems-Business-Analyst/dp/B07FNW9FGJ?crid=31IE2OM93TJXY&dib=eyJ2IjoiMSJ9.EkdWY-JPkdMVH0ehyai8WrEeGxUW23jZ4L14AX4t9y8RG7mvkmuILDLnRVxS7gGslF3JCuIl4-YFiuCSvbbi2HDR1sqyLA8AqEg8R2Wdo4DTm3cuKQPrH634wL0i_fEuY57arh0MI-Rs98gnUF6KGdsb35eZ6OJadQyYCK6I2TW-I-it7G7TGLnBxx_cnHdvO4vzUFUsBM4Db2633tTdldlZqnQkH6enqi9OFLDQr9XPvRcExLXj9Z5RKRktwWw41wkGwBGOpspFxITn4Bflwlk_dksgn70KUZMfWvIw0Kk.1u2xEWIE0c7XDKXgAe9e-SbieijnOIsHSHTylFjg6Fs&dib_tag=se&keywords=funny%2Bgot%2Bdata%2Bmis%2Bdata%2Bsystems%2Bbusiness%2Banalyst%2Bt-shirt&qid=1733599148&sprefix=%2Caps%2C253&sr=8-5&customId=B07535Y9T6&customizationToken=MC_Assembly_1%23B07535Y9T6&th=1&psc=1'\n",
    "\n",
    "headers = {\"User-Agent\": \"Mozilla/5.0 (Windows NT 10.0; Win64; x64) AppleWebKit/537.36 (KHTML, like Gecko) Chrome/109.0.0.0 Safari/537.36\"}\n",
    "\n",
    "page = requests.get(URL, headers= headers)\n",
    "\n",
    "soup1 = BeautifulSoup(page.content, \"html.parser\")\n",
    "\n",
    "soup2 = BeautifulSoup(soup1.prettify(), \"html.parser\")\n",
    "\n",
    "title = soup2.find(id = 'productTitle').get_text()\n",
    "\n",
    "price = soup2.find('span', class_ = 'a-price-whole').get_text()\n",
    "\n",
    "print(title)\n",
    "print(price)\n"
   ]
  },
  {
   "cell_type": "code",
   "execution_count": 85,
   "metadata": {},
   "outputs": [
    {
     "name": "stdout",
     "output_type": "stream",
     "text": [
      "None\n"
     ]
    }
   ],
   "source": [
    "soup3 = soup2.find('div', id = 'corePriceDisplay_desktop')\n",
    "print(soup3)"
   ]
  },
  {
   "cell_type": "code",
   "execution_count": null,
   "metadata": {},
   "outputs": [],
   "source": []
  }
 ],
 "metadata": {
  "kernelspec": {
   "display_name": "base",
   "language": "python",
   "name": "python3"
  },
  "language_info": {
   "codemirror_mode": {
    "name": "ipython",
    "version": 3
   },
   "file_extension": ".py",
   "mimetype": "text/x-python",
   "name": "python",
   "nbconvert_exporter": "python",
   "pygments_lexer": "ipython3",
   "version": "3.12.7"
  }
 },
 "nbformat": 4,
 "nbformat_minor": 2
}
