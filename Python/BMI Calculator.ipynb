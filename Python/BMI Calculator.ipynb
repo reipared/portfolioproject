{
 "cells": [
  {
   "cell_type": "code",
   "execution_count": 31,
   "id": "97787b3b-7e46-473c-9dbf-122d18b680bb",
   "metadata": {},
   "outputs": [],
   "source": [
    "# BMI = (Weight in pounds x 703) / (height in inches x height in inches)\n",
    "\n",
    "# Under 18.5 -> Underweight -> Minimal\n",
    "# 18.5 - 24.9 -> Normal -> Minimal\n",
    "# 25 - 29.9 -> Overweight -> Increased\n",
    "# 30 - 34.9 -> Obese -> High\n",
    "# 35 - 39.9 -> Severely Obese -> Very High\n",
    "# 40 and over -> Morbidly Obese -> Extremely High"
   ]
  },
  {
   "cell_type": "code",
   "execution_count": 25,
   "id": "fb32bc16-a74d-4c9a-9df2-b763893580e6",
   "metadata": {},
   "outputs": [
    {
     "name": "stdin",
     "output_type": "stream",
     "text": [
      "Enter your weight in pounds:  170\n",
      "Enter your height in inches:  69\n"
     ]
    },
    {
     "name": "stdout",
     "output_type": "stream",
     "text": [
      "25.101869355177485\n"
     ]
    }
   ],
   "source": [
    "weight = int(input(\"Enter your weight in pounds: \"))\n",
    "\n",
    "height = int(input(\"Enter your height in inches: \"))\n",
    "\n",
    "BMI = (weight * 703) / (height * height)\n",
    "\n",
    "print(BMI)"
   ]
  },
  {
   "cell_type": "code",
   "execution_count": 9,
   "id": "e23c2252-d533-44f2-ab28-45150a483571",
   "metadata": {},
   "outputs": [
    {
     "name": "stdout",
     "output_type": "stream",
     "text": [
      "240\n"
     ]
    }
   ],
   "source": [
    "print(weight)"
   ]
  },
  {
   "cell_type": "code",
   "execution_count": 19,
   "id": "6274380e-b710-475b-859f-d1c0e2fb028b",
   "metadata": {},
   "outputs": [
    {
     "data": {
      "text/plain": [
       "str"
      ]
     },
     "execution_count": 19,
     "metadata": {},
     "output_type": "execute_result"
    }
   ],
   "source": [
    "type(height)"
   ]
  },
  {
   "cell_type": "code",
   "execution_count": null,
   "id": "35b7e289-ad88-4f94-bcf4-dd373cfd3e8e",
   "metadata": {},
   "outputs": [],
   "source": []
  }
 ],
 "metadata": {
  "kernelspec": {
   "display_name": "Python 3 (ipykernel)",
   "language": "python",
   "name": "python3"
  },
  "language_info": {
   "codemirror_mode": {
    "name": "ipython",
    "version": 3
   },
   "file_extension": ".py",
   "mimetype": "text/x-python",
   "name": "python",
   "nbconvert_exporter": "python",
   "pygments_lexer": "ipython3",
   "version": "3.12.7"
  }
 },
 "nbformat": 4,
 "nbformat_minor": 5
}
